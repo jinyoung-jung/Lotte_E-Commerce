{
 "cells": [
  {
   "cell_type": "markdown",
   "metadata": {},
   "source": [
    "- Recency: 마지막 구매일이 언제 인가\n",
    "- Frequency: 얼마나 자주 구매했는가\n",
    "- Monetary: 구매 금액이 얼마나 되는가"
   ]
  },
  {
   "cell_type": "markdown",
   "metadata": {},
   "source": [
    "# 1.데이터 로드"
   ]
  },
  {
   "cell_type": "code",
   "execution_count": 150,
   "metadata": {},
   "outputs": [
    {
     "data": {
      "text/html": [
       "<div>\n",
       "<style scoped>\n",
       "    .dataframe tbody tr th:only-of-type {\n",
       "        vertical-align: middle;\n",
       "    }\n",
       "\n",
       "    .dataframe tbody tr th {\n",
       "        vertical-align: top;\n",
       "    }\n",
       "\n",
       "    .dataframe thead th {\n",
       "        text-align: right;\n",
       "    }\n",
       "</style>\n",
       "<table border=\"1\" class=\"dataframe\">\n",
       "  <thead>\n",
       "    <tr style=\"text-align: right;\">\n",
       "      <th></th>\n",
       "      <th>cid</th>\n",
       "      <th>pdate</th>\n",
       "      <th>numCDs</th>\n",
       "      <th>amount</th>\n",
       "    </tr>\n",
       "  </thead>\n",
       "  <tbody>\n",
       "    <tr>\n",
       "      <th>0</th>\n",
       "      <td>1</td>\n",
       "      <td>19970101</td>\n",
       "      <td>1</td>\n",
       "      <td>11.77</td>\n",
       "    </tr>\n",
       "    <tr>\n",
       "      <th>1</th>\n",
       "      <td>2</td>\n",
       "      <td>19970112</td>\n",
       "      <td>1</td>\n",
       "      <td>12.00</td>\n",
       "    </tr>\n",
       "    <tr>\n",
       "      <th>2</th>\n",
       "      <td>2</td>\n",
       "      <td>19970112</td>\n",
       "      <td>5</td>\n",
       "      <td>77.00</td>\n",
       "    </tr>\n",
       "  </tbody>\n",
       "</table>\n",
       "</div>"
      ],
      "text/plain": [
       "   cid     pdate  numCDs  amount\n",
       "0    1  19970101       1   11.77\n",
       "1    2  19970112       1   12.00\n",
       "2    2  19970112       5   77.00"
      ]
     },
     "execution_count": 150,
     "metadata": {},
     "output_type": "execute_result"
    }
   ],
   "source": [
    "import pandas as pd\n",
    "\n",
    "data = pd.read_csv(\"data/CDNOW_master.txt\",header = None, names = ['cid','pdate','numCDs','amount'])\n",
    "\n",
    "data.head(3)"
   ]
  },
  {
   "cell_type": "markdown",
   "metadata": {},
   "source": [
    "# 2.데이터 정제"
   ]
  },
  {
   "cell_type": "code",
   "execution_count": 151,
   "metadata": {},
   "outputs": [
    {
     "data": {
      "text/html": [
       "<div>\n",
       "<style scoped>\n",
       "    .dataframe tbody tr th:only-of-type {\n",
       "        vertical-align: middle;\n",
       "    }\n",
       "\n",
       "    .dataframe tbody tr th {\n",
       "        vertical-align: top;\n",
       "    }\n",
       "\n",
       "    .dataframe thead th {\n",
       "        text-align: right;\n",
       "    }\n",
       "</style>\n",
       "<table border=\"1\" class=\"dataframe\">\n",
       "  <thead>\n",
       "    <tr style=\"text-align: right;\">\n",
       "      <th></th>\n",
       "      <th>cid</th>\n",
       "      <th>pdate</th>\n",
       "      <th>numCDs</th>\n",
       "      <th>amount</th>\n",
       "      <th>oid</th>\n",
       "    </tr>\n",
       "  </thead>\n",
       "  <tbody>\n",
       "    <tr>\n",
       "      <th>14312</th>\n",
       "      <td>4485</td>\n",
       "      <td>1997-03-04</td>\n",
       "      <td>4</td>\n",
       "      <td>30.52</td>\n",
       "      <td>14312</td>\n",
       "    </tr>\n",
       "    <tr>\n",
       "      <th>59012</th>\n",
       "      <td>19716</td>\n",
       "      <td>1997-12-10</td>\n",
       "      <td>4</td>\n",
       "      <td>56.46</td>\n",
       "      <td>59012</td>\n",
       "    </tr>\n",
       "    <tr>\n",
       "      <th>25562</th>\n",
       "      <td>8144</td>\n",
       "      <td>1997-06-14</td>\n",
       "      <td>1</td>\n",
       "      <td>27.77</td>\n",
       "      <td>25562</td>\n",
       "    </tr>\n",
       "  </tbody>\n",
       "</table>\n",
       "</div>"
      ],
      "text/plain": [
       "         cid      pdate  numCDs  amount    oid\n",
       "14312   4485 1997-03-04       4   30.52  14312\n",
       "59012  19716 1997-12-10       4   56.46  59012\n",
       "25562   8144 1997-06-14       1   27.77  25562"
      ]
     },
     "execution_count": 151,
     "metadata": {},
     "output_type": "execute_result"
    }
   ],
   "source": [
    "#날짜 정제\n",
    "data['pdate'] = pd.to_datetime(data['pdate'], format = \"%Y%m%d\")\n",
    "\n",
    "#주문 아이디 생성\n",
    "data['oid'] = data.index\n",
    "\n",
    "data.sample(3)"
   ]
  },
  {
   "cell_type": "markdown",
   "metadata": {},
   "source": [
    "# 3.고객 유지율 표"
   ]
  },
  {
   "cell_type": "markdown",
   "metadata": {},
   "source": [
    "월별 고객이 얼마나 유지되었나 **코호트 분석**을 해보자"
   ]
  },
  {
   "cell_type": "code",
   "execution_count": 152,
   "metadata": {},
   "outputs": [
    {
     "data": {
      "text/html": [
       "<div>\n",
       "<style scoped>\n",
       "    .dataframe tbody tr th:only-of-type {\n",
       "        vertical-align: middle;\n",
       "    }\n",
       "\n",
       "    .dataframe tbody tr th {\n",
       "        vertical-align: top;\n",
       "    }\n",
       "\n",
       "    .dataframe thead th {\n",
       "        text-align: right;\n",
       "    }\n",
       "</style>\n",
       "<table border=\"1\" class=\"dataframe\">\n",
       "  <thead>\n",
       "    <tr style=\"text-align: right;\">\n",
       "      <th></th>\n",
       "      <th>cid</th>\n",
       "      <th>pdate</th>\n",
       "      <th>numCDs</th>\n",
       "      <th>amount</th>\n",
       "      <th>oid</th>\n",
       "      <th>OrderPeriod</th>\n",
       "      <th>CohortGroup</th>\n",
       "    </tr>\n",
       "  </thead>\n",
       "  <tbody>\n",
       "    <tr>\n",
       "      <th>0</th>\n",
       "      <td>1</td>\n",
       "      <td>1997-01-01</td>\n",
       "      <td>1</td>\n",
       "      <td>11.77</td>\n",
       "      <td>0</td>\n",
       "      <td>1997-01</td>\n",
       "      <td>1997-01</td>\n",
       "    </tr>\n",
       "    <tr>\n",
       "      <th>1</th>\n",
       "      <td>2</td>\n",
       "      <td>1997-01-12</td>\n",
       "      <td>1</td>\n",
       "      <td>12.00</td>\n",
       "      <td>1</td>\n",
       "      <td>1997-01</td>\n",
       "      <td>1997-01</td>\n",
       "    </tr>\n",
       "    <tr>\n",
       "      <th>2</th>\n",
       "      <td>2</td>\n",
       "      <td>1997-01-12</td>\n",
       "      <td>5</td>\n",
       "      <td>77.00</td>\n",
       "      <td>2</td>\n",
       "      <td>1997-01</td>\n",
       "      <td>1997-01</td>\n",
       "    </tr>\n",
       "    <tr>\n",
       "      <th>3</th>\n",
       "      <td>3</td>\n",
       "      <td>1997-01-02</td>\n",
       "      <td>2</td>\n",
       "      <td>20.76</td>\n",
       "      <td>3</td>\n",
       "      <td>1997-01</td>\n",
       "      <td>1997-01</td>\n",
       "    </tr>\n",
       "    <tr>\n",
       "      <th>4</th>\n",
       "      <td>3</td>\n",
       "      <td>1997-03-30</td>\n",
       "      <td>2</td>\n",
       "      <td>20.76</td>\n",
       "      <td>4</td>\n",
       "      <td>1997-03</td>\n",
       "      <td>1997-01</td>\n",
       "    </tr>\n",
       "  </tbody>\n",
       "</table>\n",
       "</div>"
      ],
      "text/plain": [
       "   cid      pdate  numCDs  amount  oid OrderPeriod CohortGroup\n",
       "0    1 1997-01-01       1   11.77    0     1997-01     1997-01\n",
       "1    2 1997-01-12       1   12.00    1     1997-01     1997-01\n",
       "2    2 1997-01-12       5   77.00    2     1997-01     1997-01\n",
       "3    3 1997-01-02       2   20.76    3     1997-01     1997-01\n",
       "4    3 1997-03-30       2   20.76    4     1997-03     1997-01"
      ]
     },
     "execution_count": 152,
     "metadata": {},
     "output_type": "execute_result"
    }
   ],
   "source": [
    "# 연-월 데이터\n",
    "data['OrderPeriod'] = data['pdate'].apply(lambda x: x.strftime('%Y-%m'))\n",
    "\n",
    "# 첫 주문 데이터\n",
    "data.set_index('cid',inplace = True)\n",
    "\n",
    "data['CohortGroup'] = data.groupby(level=0)['pdate'].min().apply(lambda x: x.strftime('%Y-%m'))\n",
    "data.reset_index(inplace = True)\n",
    "\n",
    "data.head()"
   ]
  },
  {
   "cell_type": "code",
   "execution_count": 153,
   "metadata": {},
   "outputs": [
    {
     "data": {
      "text/html": [
       "<div>\n",
       "<style scoped>\n",
       "    .dataframe tbody tr th:only-of-type {\n",
       "        vertical-align: middle;\n",
       "    }\n",
       "\n",
       "    .dataframe tbody tr th {\n",
       "        vertical-align: top;\n",
       "    }\n",
       "\n",
       "    .dataframe thead th {\n",
       "        text-align: right;\n",
       "    }\n",
       "</style>\n",
       "<table border=\"1\" class=\"dataframe\">\n",
       "  <thead>\n",
       "    <tr style=\"text-align: right;\">\n",
       "      <th></th>\n",
       "      <th></th>\n",
       "      <th>TotalUsers</th>\n",
       "      <th>TotalOrders</th>\n",
       "      <th>amount</th>\n",
       "    </tr>\n",
       "    <tr>\n",
       "      <th>CohortGroup</th>\n",
       "      <th>OrderPeriod</th>\n",
       "      <th></th>\n",
       "      <th></th>\n",
       "      <th></th>\n",
       "    </tr>\n",
       "  </thead>\n",
       "  <tbody>\n",
       "    <tr>\n",
       "      <th rowspan=\"5\" valign=\"top\">1997-01</th>\n",
       "      <th>1997-01</th>\n",
       "      <td>7846</td>\n",
       "      <td>8928</td>\n",
       "      <td>299060.17</td>\n",
       "    </tr>\n",
       "    <tr>\n",
       "      <th>1997-02</th>\n",
       "      <td>1157</td>\n",
       "      <td>1627</td>\n",
       "      <td>61041.69</td>\n",
       "    </tr>\n",
       "    <tr>\n",
       "      <th>1997-03</th>\n",
       "      <td>964</td>\n",
       "      <td>1329</td>\n",
       "      <td>50683.75</td>\n",
       "    </tr>\n",
       "    <tr>\n",
       "      <th>1997-04</th>\n",
       "      <td>810</td>\n",
       "      <td>1091</td>\n",
       "      <td>40655.50</td>\n",
       "    </tr>\n",
       "    <tr>\n",
       "      <th>1997-05</th>\n",
       "      <td>679</td>\n",
       "      <td>904</td>\n",
       "      <td>34973.56</td>\n",
       "    </tr>\n",
       "  </tbody>\n",
       "</table>\n",
       "</div>"
      ],
      "text/plain": [
       "                         TotalUsers  TotalOrders     amount\n",
       "CohortGroup OrderPeriod                                    \n",
       "1997-01     1997-01            7846         8928  299060.17\n",
       "            1997-02            1157         1627   61041.69\n",
       "            1997-03             964         1329   50683.75\n",
       "            1997-04             810         1091   40655.50\n",
       "            1997-05             679          904   34973.56"
      ]
     },
     "execution_count": 153,
     "metadata": {},
     "output_type": "execute_result"
    }
   ],
   "source": [
    "import numpy as np\n",
    "\n",
    "grouped = data.groupby(['CohortGroup','OrderPeriod'])\n",
    "\n",
    "cohorts = grouped.agg({'cid':pd.Series.nunique,\n",
    "                       'oid':pd.Series.nunique,\n",
    "                       'amount':np.sum})\n",
    "\n",
    "cohorts.rename(columns={'cid':'TotalUsers',\n",
    "                        'oid':'TotalOrders'}, inplace=True)\n",
    "cohorts.head()"
   ]
  },
  {
   "cell_type": "code",
   "execution_count": 154,
   "metadata": {},
   "outputs": [
    {
     "data": {
      "text/html": [
       "<div>\n",
       "<style scoped>\n",
       "    .dataframe tbody tr th:only-of-type {\n",
       "        vertical-align: middle;\n",
       "    }\n",
       "\n",
       "    .dataframe tbody tr th {\n",
       "        vertical-align: top;\n",
       "    }\n",
       "\n",
       "    .dataframe thead th {\n",
       "        text-align: right;\n",
       "    }\n",
       "</style>\n",
       "<table border=\"1\" class=\"dataframe\">\n",
       "  <thead>\n",
       "    <tr style=\"text-align: right;\">\n",
       "      <th></th>\n",
       "      <th></th>\n",
       "      <th>TotalUsers</th>\n",
       "      <th>TotalOrders</th>\n",
       "      <th>amount</th>\n",
       "      <th>CohortPeriod</th>\n",
       "    </tr>\n",
       "    <tr>\n",
       "      <th>CohortGroup</th>\n",
       "      <th>OrderPeriod</th>\n",
       "      <th></th>\n",
       "      <th></th>\n",
       "      <th></th>\n",
       "      <th></th>\n",
       "    </tr>\n",
       "  </thead>\n",
       "  <tbody>\n",
       "    <tr>\n",
       "      <th rowspan=\"5\" valign=\"top\">1997-01</th>\n",
       "      <th>1997-01</th>\n",
       "      <td>7846</td>\n",
       "      <td>8928</td>\n",
       "      <td>299060.17</td>\n",
       "      <td>1</td>\n",
       "    </tr>\n",
       "    <tr>\n",
       "      <th>1997-02</th>\n",
       "      <td>1157</td>\n",
       "      <td>1627</td>\n",
       "      <td>61041.69</td>\n",
       "      <td>2</td>\n",
       "    </tr>\n",
       "    <tr>\n",
       "      <th>1997-03</th>\n",
       "      <td>964</td>\n",
       "      <td>1329</td>\n",
       "      <td>50683.75</td>\n",
       "      <td>3</td>\n",
       "    </tr>\n",
       "    <tr>\n",
       "      <th>1997-04</th>\n",
       "      <td>810</td>\n",
       "      <td>1091</td>\n",
       "      <td>40655.50</td>\n",
       "      <td>4</td>\n",
       "    </tr>\n",
       "    <tr>\n",
       "      <th>1997-05</th>\n",
       "      <td>679</td>\n",
       "      <td>904</td>\n",
       "      <td>34973.56</td>\n",
       "      <td>5</td>\n",
       "    </tr>\n",
       "  </tbody>\n",
       "</table>\n",
       "</div>"
      ],
      "text/plain": [
       "                         TotalUsers  TotalOrders     amount  CohortPeriod\n",
       "CohortGroup OrderPeriod                                                  \n",
       "1997-01     1997-01            7846         8928  299060.17             1\n",
       "            1997-02            1157         1627   61041.69             2\n",
       "            1997-03             964         1329   50683.75             3\n",
       "            1997-04             810         1091   40655.50             4\n",
       "            1997-05             679          904   34973.56             5"
      ]
     },
     "execution_count": 154,
     "metadata": {},
     "output_type": "execute_result"
    }
   ],
   "source": [
    "def cohort_period(data):\n",
    "    data['CohortPeriod'] = np.arange(len(data))+1\n",
    "    return data\n",
    "\n",
    "cohorts = cohorts.groupby(level=0).apply(cohort_period)\n",
    "cohorts.head()"
   ]
  },
  {
   "cell_type": "code",
   "execution_count": 155,
   "metadata": {},
   "outputs": [
    {
     "data": {
      "text/plain": [
       "CohortGroup\n",
       "1997-01    7846\n",
       "1997-02    8476\n",
       "1997-03    7248\n",
       "Name: TotalUsers, dtype: int64"
      ]
     },
     "execution_count": 155,
     "metadata": {},
     "output_type": "execute_result"
    }
   ],
   "source": [
    "# reindex the DataFrame\n",
    "cohorts.reset_index(inplace=True)\n",
    "cohorts.set_index(['CohortGroup', 'CohortPeriod'], inplace=True)\n",
    "\n",
    "# create a Series holding the total size of each CohortGroup\n",
    "cohort_group_size = cohorts['TotalUsers'].groupby(level=0).first()\n",
    "cohort_group_size.head()"
   ]
  },
  {
   "cell_type": "code",
   "execution_count": 156,
   "metadata": {},
   "outputs": [
    {
     "data": {
      "text/plain": [
       "CohortGroup  CohortPeriod\n",
       "1997-01      1               7846\n",
       "             2               1157\n",
       "             3                964\n",
       "             4                810\n",
       "             5                679\n",
       "Name: TotalUsers, dtype: int64"
      ]
     },
     "execution_count": 156,
     "metadata": {},
     "output_type": "execute_result"
    }
   ],
   "source": [
    "cohorts['TotalUsers'].head()"
   ]
  },
  {
   "cell_type": "code",
   "execution_count": 157,
   "metadata": {},
   "outputs": [
    {
     "data": {
      "text/html": [
       "<div>\n",
       "<style scoped>\n",
       "    .dataframe tbody tr th:only-of-type {\n",
       "        vertical-align: middle;\n",
       "    }\n",
       "\n",
       "    .dataframe tbody tr th {\n",
       "        vertical-align: top;\n",
       "    }\n",
       "\n",
       "    .dataframe thead th {\n",
       "        text-align: right;\n",
       "    }\n",
       "</style>\n",
       "<table border=\"1\" class=\"dataframe\">\n",
       "  <thead>\n",
       "    <tr style=\"text-align: right;\">\n",
       "      <th>CohortGroup</th>\n",
       "      <th>1997-01</th>\n",
       "      <th>1997-02</th>\n",
       "      <th>1997-03</th>\n",
       "    </tr>\n",
       "    <tr>\n",
       "      <th>CohortPeriod</th>\n",
       "      <th></th>\n",
       "      <th></th>\n",
       "      <th></th>\n",
       "    </tr>\n",
       "  </thead>\n",
       "  <tbody>\n",
       "    <tr>\n",
       "      <th>1</th>\n",
       "      <td>7846.0</td>\n",
       "      <td>8476.0</td>\n",
       "      <td>7248.0</td>\n",
       "    </tr>\n",
       "    <tr>\n",
       "      <th>2</th>\n",
       "      <td>1157.0</td>\n",
       "      <td>1312.0</td>\n",
       "      <td>1032.0</td>\n",
       "    </tr>\n",
       "    <tr>\n",
       "      <th>3</th>\n",
       "      <td>964.0</td>\n",
       "      <td>980.0</td>\n",
       "      <td>752.0</td>\n",
       "    </tr>\n",
       "    <tr>\n",
       "      <th>4</th>\n",
       "      <td>810.0</td>\n",
       "      <td>783.0</td>\n",
       "      <td>756.0</td>\n",
       "    </tr>\n",
       "    <tr>\n",
       "      <th>5</th>\n",
       "      <td>679.0</td>\n",
       "      <td>847.0</td>\n",
       "      <td>674.0</td>\n",
       "    </tr>\n",
       "  </tbody>\n",
       "</table>\n",
       "</div>"
      ],
      "text/plain": [
       "CohortGroup   1997-01  1997-02  1997-03\n",
       "CohortPeriod                           \n",
       "1              7846.0   8476.0   7248.0\n",
       "2              1157.0   1312.0   1032.0\n",
       "3               964.0    980.0    752.0\n",
       "4               810.0    783.0    756.0\n",
       "5               679.0    847.0    674.0"
      ]
     },
     "execution_count": 157,
     "metadata": {},
     "output_type": "execute_result"
    }
   ],
   "source": [
    "cohorts['TotalUsers'].unstack(0).head()\n"
   ]
  },
  {
   "cell_type": "code",
   "execution_count": 158,
   "metadata": {},
   "outputs": [
    {
     "data": {
      "text/html": [
       "<div>\n",
       "<style scoped>\n",
       "    .dataframe tbody tr th:only-of-type {\n",
       "        vertical-align: middle;\n",
       "    }\n",
       "\n",
       "    .dataframe tbody tr th {\n",
       "        vertical-align: top;\n",
       "    }\n",
       "\n",
       "    .dataframe thead th {\n",
       "        text-align: right;\n",
       "    }\n",
       "</style>\n",
       "<table border=\"1\" class=\"dataframe\">\n",
       "  <thead>\n",
       "    <tr style=\"text-align: right;\">\n",
       "      <th>CohortGroup</th>\n",
       "      <th>1997-01</th>\n",
       "      <th>1997-02</th>\n",
       "      <th>1997-03</th>\n",
       "    </tr>\n",
       "    <tr>\n",
       "      <th>CohortPeriod</th>\n",
       "      <th></th>\n",
       "      <th></th>\n",
       "      <th></th>\n",
       "    </tr>\n",
       "  </thead>\n",
       "  <tbody>\n",
       "    <tr>\n",
       "      <th>1</th>\n",
       "      <td>1.000000</td>\n",
       "      <td>1.000000</td>\n",
       "      <td>1.000000</td>\n",
       "    </tr>\n",
       "    <tr>\n",
       "      <th>2</th>\n",
       "      <td>0.147464</td>\n",
       "      <td>0.154790</td>\n",
       "      <td>0.142384</td>\n",
       "    </tr>\n",
       "    <tr>\n",
       "      <th>3</th>\n",
       "      <td>0.122865</td>\n",
       "      <td>0.115621</td>\n",
       "      <td>0.103753</td>\n",
       "    </tr>\n",
       "    <tr>\n",
       "      <th>4</th>\n",
       "      <td>0.103237</td>\n",
       "      <td>0.092378</td>\n",
       "      <td>0.104305</td>\n",
       "    </tr>\n",
       "    <tr>\n",
       "      <th>5</th>\n",
       "      <td>0.086541</td>\n",
       "      <td>0.099929</td>\n",
       "      <td>0.092991</td>\n",
       "    </tr>\n",
       "    <tr>\n",
       "      <th>6</th>\n",
       "      <td>0.093806</td>\n",
       "      <td>0.092732</td>\n",
       "      <td>0.077815</td>\n",
       "    </tr>\n",
       "    <tr>\n",
       "      <th>7</th>\n",
       "      <td>0.091767</td>\n",
       "      <td>0.073856</td>\n",
       "      <td>0.077401</td>\n",
       "    </tr>\n",
       "    <tr>\n",
       "      <th>8</th>\n",
       "      <td>0.074178</td>\n",
       "      <td>0.073030</td>\n",
       "      <td>0.079884</td>\n",
       "    </tr>\n",
       "    <tr>\n",
       "      <th>9</th>\n",
       "      <td>0.071246</td>\n",
       "      <td>0.078575</td>\n",
       "      <td>0.087472</td>\n",
       "    </tr>\n",
       "    <tr>\n",
       "      <th>10</th>\n",
       "      <td>0.075707</td>\n",
       "      <td>0.085064</td>\n",
       "      <td>0.078504</td>\n",
       "    </tr>\n",
       "  </tbody>\n",
       "</table>\n",
       "</div>"
      ],
      "text/plain": [
       "CohortGroup    1997-01   1997-02   1997-03\n",
       "CohortPeriod                              \n",
       "1             1.000000  1.000000  1.000000\n",
       "2             0.147464  0.154790  0.142384\n",
       "3             0.122865  0.115621  0.103753\n",
       "4             0.103237  0.092378  0.104305\n",
       "5             0.086541  0.099929  0.092991\n",
       "6             0.093806  0.092732  0.077815\n",
       "7             0.091767  0.073856  0.077401\n",
       "8             0.074178  0.073030  0.079884\n",
       "9             0.071246  0.078575  0.087472\n",
       "10            0.075707  0.085064  0.078504"
      ]
     },
     "execution_count": 158,
     "metadata": {},
     "output_type": "execute_result"
    }
   ],
   "source": [
    "user_retention = cohorts['TotalUsers'].unstack(0).divide(cohort_group_size, axis=1)\n",
    "user_retention.head(10)"
   ]
  },
  {
   "cell_type": "code",
   "execution_count": 161,
   "metadata": {},
   "outputs": [
    {
     "data": {
      "image/png": "[encoded data removed]",
      "text/plain": [
       "<Figure size 720x360 with 1 Axes>"
      ]
     },
     "metadata": {
      "needs_background": "light"
     },
     "output_type": "display_data"
    }
   ],
   "source": [
    "user_retention[['1997-01', '1997-02', '1997-03']].plot(figsize=(10,5))\n",
    "plt.title('Cohorts: User Retention')\n",
    "plt.xticks(np.arange(1, 12.1, 1))\n",
    "plt.xlim(1, 12)\n",
    "plt.ylabel('% of Cohort Purchasing');"
   ]
  },
  {
   "cell_type": "code",
   "execution_count": 163,
   "metadata": {},
   "outputs": [
    {
     "data": {
      "image/png": "[encoded data removed]",
      "text/plain": [
       "<Figure size 864x576 with 2 Axes>"
      ]
     },
     "metadata": {},
     "output_type": "display_data"
    }
   ],
   "source": [
    "import seaborn as sns\n",
    "sns.set(style='white')\n",
    "\n",
    "plt.figure(figsize=(12, 8))\n",
    "plt.title('Cohorts: User Retention')\n",
    "sns.heatmap(user_retention.T, mask=user_retention.T.isnull(), annot=True, fmt='.0%', cmap=\"YlGnBu\");"
   ]
  },
  {
   "cell_type": "code",
   "execution_count": null,
   "metadata": {},
   "outputs": [],
   "source": []
  },
  {
   "cell_type": "code",
   "execution_count": null,
   "metadata": {},
   "outputs": [],
   "source": []
  },
  {
   "cell_type": "code",
   "execution_count": null,
   "metadata": {},
   "outputs": [],
   "source": []
  },
  {
   "cell_type": "code",
   "execution_count": null,
   "metadata": {},
   "outputs": [],
   "source": []
  },
  {
   "cell_type": "markdown",
   "metadata": {},
   "source": [
    "[알엠에프](https://statkclee.github.io/ml/ml-pm-applications.html) <br>\n",
    "[코호트](http://www.gregreda.com/2015/08/23/cohort-analysis-with-python/)"
   ]
  }
 ],
 "metadata": {
  "kernelspec": {
   "display_name": "Python 3",
   "language": "python",
   "name": "python3"
  },
  "language_info": {
   "codemirror_mode": {
    "name": "ipython",
    "version": 3
   },
   "file_extension": ".py",
   "mimetype": "text/x-python",
   "name": "python",
   "nbconvert_exporter": "python",
   "pygments_lexer": "ipython3",
   "version": "3.7.3"
  }
 },
 "nbformat": 4,
 "nbformat_minor": 2
}
