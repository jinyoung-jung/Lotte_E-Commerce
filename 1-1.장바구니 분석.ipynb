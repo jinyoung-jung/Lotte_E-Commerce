{
 "cells": [
  {
   "cell_type": "markdown",
   "metadata": {},
   "source": [
    "# 0.개념"
   ]
  },
  {
   "cell_type": "markdown",
   "metadata": {},
   "source": [
    "- 연관성 분석은 각 항목들을 독립적인 것으로 판단하여 규칙을 생성하지만, 장바구니 분석은 항목 간의 hierarchical 관계까지 고려\n",
    "- 하나의 거래나 사건에 포한되어 있는 항목들의 관련성을 파악\n",
    "- 둘 이상의 항목들로 구성된 연관성 규칙을 찾아내는 탐색적 모델링\n",
    "\n",
    "**여러 행위자와 여러 항목으로 구성된 데이터셋에서 가장 빈번하게 발생한 항목 규칙을 찾아낼 때 사용**"
   ]
  },
  {
   "cell_type": "markdown",
   "metadata": {},
   "source": [
    "# 1.분석"
   ]
  },
  {
   "cell_type": "markdown",
   "metadata": {},
   "source": [
    "## 1)데이터 로드"
   ]
  },
  {
   "cell_type": "markdown",
   "metadata": {},
   "source": [
    "장바구니 분석에 필요한 데이터\n",
    "\n",
    "- 고객 아이디(CLNT_ID) : 고객 구분\n",
    "- 날짜(SESS_DT) : 구매 날짜 구분\n",
    "- 상품 코드(PD_C) : 구매 상푼 구분"
   ]
  },
  {
   "cell_type": "code",
   "execution_count": 1,
   "metadata": {},
   "outputs": [],
   "source": [
    "import pandas as pd\n",
    "import warnings\n",
    "\n",
    "# 경고 무시\n",
    "warnings.filterwarnings('ignore')\n",
    "\n",
    "product = pd.read_csv(\"data/Product.csv\")\n",
    "# search1 = pd.read_csv(\"data/Search1.csv\")\n",
    "# search2 = pd.read_csv(\"data/Search2.csv\")\n",
    "# custom = pd.read_csv(\"data/Custom.csv\")\n",
    "session = pd.read_csv(\"data/Session.csv\")\n",
    "master = pd.read_csv(\"data/Master.csv\")"
   ]
  },
  {
   "cell_type": "markdown",
   "metadata": {},
   "source": [
    "**데이터 합치기**"
   ]
  },
  {
   "cell_type": "code",
   "execution_count": 2,
   "metadata": {},
   "outputs": [
    {
     "data": {
      "text/html": [
       "<div>\n",
       "<style scoped>\n",
       "    .dataframe tbody tr th:only-of-type {\n",
       "        vertical-align: middle;\n",
       "    }\n",
       "\n",
       "    .dataframe tbody tr th {\n",
       "        vertical-align: top;\n",
       "    }\n",
       "\n",
       "    .dataframe thead th {\n",
       "        text-align: right;\n",
       "    }\n",
       "</style>\n",
       "<table border=\"1\" class=\"dataframe\">\n",
       "  <thead>\n",
       "    <tr style=\"text-align: right;\">\n",
       "      <th></th>\n",
       "      <th>CLNT_ID</th>\n",
       "      <th>SESS_ID</th>\n",
       "      <th>HITS_SEQ</th>\n",
       "      <th>PD_C</th>\n",
       "      <th>PD_ADD_NM</th>\n",
       "      <th>PD_BRA_NM</th>\n",
       "      <th>PD_BUY_AM</th>\n",
       "      <th>PD_BUY_CT</th>\n",
       "      <th>SESS_SEQ</th>\n",
       "      <th>SESS_DT</th>\n",
       "      <th>TOT_PAG_VIEW_CT</th>\n",
       "      <th>TOT_SESS_HR_V</th>\n",
       "      <th>DVC_CTG_NM</th>\n",
       "      <th>ZON_NM</th>\n",
       "      <th>CITY_NM</th>\n",
       "      <th>PD_NM</th>\n",
       "      <th>CLAC1_NM</th>\n",
       "      <th>CLAC2_NM</th>\n",
       "      <th>CLAC3_NM</th>\n",
       "    </tr>\n",
       "  </thead>\n",
       "  <tbody>\n",
       "    <tr>\n",
       "      <th>0</th>\n",
       "      <td>8</td>\n",
       "      <td>7017688</td>\n",
       "      <td>74</td>\n",
       "      <td>206218</td>\n",
       "      <td>색상:BLACK|사이즈:ONE SIZE / 1개</td>\n",
       "      <td>플라넷비</td>\n",
       "      <td>38,000</td>\n",
       "      <td>1</td>\n",
       "      <td>2</td>\n",
       "      <td>20180605</td>\n",
       "      <td>55.0</td>\n",
       "      <td>468</td>\n",
       "      <td>mobile</td>\n",
       "      <td>Seoul</td>\n",
       "      <td>Seoul</td>\n",
       "      <td>남녀공용 오베이 DROP OUT UTILITY SMALL BAG(100010095)...</td>\n",
       "      <td>패션잡화</td>\n",
       "      <td>여성가방</td>\n",
       "      <td>여성클러치백</td>\n",
       "    </tr>\n",
       "    <tr>\n",
       "      <th>1</th>\n",
       "      <td>8</td>\n",
       "      <td>6964877</td>\n",
       "      <td>40</td>\n",
       "      <td>206218</td>\n",
       "      <td>색상:BLACK|사이즈:ONE SIZE / 1개</td>\n",
       "      <td>플라넷비</td>\n",
       "      <td>38,000</td>\n",
       "      <td>1</td>\n",
       "      <td>7</td>\n",
       "      <td>20180606</td>\n",
       "      <td>38.0</td>\n",
       "      <td>366</td>\n",
       "      <td>mobile</td>\n",
       "      <td>Gyeonggi-do</td>\n",
       "      <td>Gwangmyeong-si</td>\n",
       "      <td>남녀공용 오베이 DROP OUT UTILITY SMALL BAG(100010095)...</td>\n",
       "      <td>패션잡화</td>\n",
       "      <td>여성가방</td>\n",
       "      <td>여성클러치백</td>\n",
       "    </tr>\n",
       "    <tr>\n",
       "      <th>2</th>\n",
       "      <td>14</td>\n",
       "      <td>1156991</td>\n",
       "      <td>284</td>\n",
       "      <td>369141</td>\n",
       "      <td>색상:LL2G16216RGB|사이즈:FREE / 1개</td>\n",
       "      <td>로이드</td>\n",
       "      <td>39,900</td>\n",
       "      <td>1</td>\n",
       "      <td>5</td>\n",
       "      <td>20180911</td>\n",
       "      <td>256.0</td>\n",
       "      <td>7,098</td>\n",
       "      <td>mobile</td>\n",
       "      <td>Gyeonggi-do</td>\n",
       "      <td>Ansan-si</td>\n",
       "      <td>여성가죽시계 LL2G16216RGB - LL2G16216RGB / FREE</td>\n",
       "      <td>패션잡화</td>\n",
       "      <td>시계</td>\n",
       "      <td>여성시계</td>\n",
       "    </tr>\n",
       "    <tr>\n",
       "      <th>3</th>\n",
       "      <td>14</td>\n",
       "      <td>1156991</td>\n",
       "      <td>284</td>\n",
       "      <td>645262</td>\n",
       "      <td>색상:LL1G14817AIN|사이즈:FREE / 1개</td>\n",
       "      <td>로이드(주얼리)</td>\n",
       "      <td>29,900</td>\n",
       "      <td>1</td>\n",
       "      <td>5</td>\n",
       "      <td>20180911</td>\n",
       "      <td>256.0</td>\n",
       "      <td>7,098</td>\n",
       "      <td>mobile</td>\n",
       "      <td>Gyeonggi-do</td>\n",
       "      <td>Ansan-si</td>\n",
       "      <td>남성가죽시계 LL1G14817AIN - LL1G14817AIN / FREE</td>\n",
       "      <td>패션잡화</td>\n",
       "      <td>시계</td>\n",
       "      <td>여성시계</td>\n",
       "    </tr>\n",
       "    <tr>\n",
       "      <th>4</th>\n",
       "      <td>25</td>\n",
       "      <td>8113243</td>\n",
       "      <td>9</td>\n",
       "      <td>715121</td>\n",
       "      <td>(not set)</td>\n",
       "      <td>[이롬]</td>\n",
       "      <td>92,000</td>\n",
       "      <td>1</td>\n",
       "      <td>160</td>\n",
       "      <td>20180518</td>\n",
       "      <td>28.0</td>\n",
       "      <td>1,540</td>\n",
       "      <td>desktop</td>\n",
       "      <td>Gyeonggi-do</td>\n",
       "      <td>Osan-si</td>\n",
       "      <td>[이롬황성주]1일1생식 8주 + 쉐이커</td>\n",
       "      <td>음료</td>\n",
       "      <td>두유</td>\n",
       "      <td>일반두유</td>\n",
       "    </tr>\n",
       "  </tbody>\n",
       "</table>\n",
       "</div>"
      ],
      "text/plain": [
       "   CLNT_ID  SESS_ID  HITS_SEQ    PD_C                      PD_ADD_NM  \\\n",
       "0        8  7017688        74  206218     색상:BLACK|사이즈:ONE SIZE / 1개   \n",
       "1        8  6964877        40  206218     색상:BLACK|사이즈:ONE SIZE / 1개   \n",
       "2       14  1156991       284  369141  색상:LL2G16216RGB|사이즈:FREE / 1개   \n",
       "3       14  1156991       284  645262  색상:LL1G14817AIN|사이즈:FREE / 1개   \n",
       "4       25  8113243         9  715121                      (not set)   \n",
       "\n",
       "  PD_BRA_NM PD_BUY_AM PD_BUY_CT  SESS_SEQ   SESS_DT  TOT_PAG_VIEW_CT  \\\n",
       "0      플라넷비    38,000         1         2  20180605             55.0   \n",
       "1      플라넷비    38,000         1         7  20180606             38.0   \n",
       "2       로이드    39,900         1         5  20180911            256.0   \n",
       "3  로이드(주얼리)    29,900         1         5  20180911            256.0   \n",
       "4      [이롬]    92,000         1       160  20180518             28.0   \n",
       "\n",
       "  TOT_SESS_HR_V DVC_CTG_NM       ZON_NM         CITY_NM  \\\n",
       "0           468     mobile        Seoul           Seoul   \n",
       "1           366     mobile  Gyeonggi-do  Gwangmyeong-si   \n",
       "2         7,098     mobile  Gyeonggi-do        Ansan-si   \n",
       "3         7,098     mobile  Gyeonggi-do        Ansan-si   \n",
       "4         1,540    desktop  Gyeonggi-do         Osan-si   \n",
       "\n",
       "                                               PD_NM CLAC1_NM CLAC2_NM  \\\n",
       "0  남녀공용 오베이 DROP OUT UTILITY SMALL BAG(100010095)...     패션잡화     여성가방   \n",
       "1  남녀공용 오베이 DROP OUT UTILITY SMALL BAG(100010095)...     패션잡화     여성가방   \n",
       "2          여성가죽시계 LL2G16216RGB - LL2G16216RGB / FREE     패션잡화       시계   \n",
       "3          남성가죽시계 LL1G14817AIN - LL1G14817AIN / FREE     패션잡화       시계   \n",
       "4                              [이롬황성주]1일1생식 8주 + 쉐이커       음료       두유   \n",
       "\n",
       "  CLAC3_NM  \n",
       "0   여성클러치백  \n",
       "1   여성클러치백  \n",
       "2     여성시계  \n",
       "3     여성시계  \n",
       "4     일반두유  "
      ]
     },
     "execution_count": 2,
     "metadata": {},
     "output_type": "execute_result"
    }
   ],
   "source": [
    "data = pd.merge(product, session, how = 'left', on = ['CLNT_ID','SESS_ID']).sort_values('CLNT_ID')\n",
    "\n",
    "data = pd.merge(data, master, how = 'left', on = 'PD_C')\n",
    "\n",
    "data.head(5)"
   ]
  },
  {
   "cell_type": "code",
   "execution_count": 3,
   "metadata": {},
   "outputs": [
    {
     "name": "stdout",
     "output_type": "stream",
     "text": [
      "제품명에 따른 종류: 817421 // 제품 소분류에 따른 종류: 898\n"
     ]
    }
   ],
   "source": [
    "print(\"제품명에 따른 종류: {} // 제품 소분류에 따른 종류: {}\".\n",
    "      format(len(data['PD_NM'].value_counts()),len(data['CLAC3_NM'].value_counts())))"
   ]
  },
  {
   "cell_type": "markdown",
   "metadata": {},
   "source": [
    "문제점\n",
    "\n",
    "- 제품별 옵션(색상, 사이즈)이 달라도 같은 제품 코드로 되어 있음\n",
    "- 제품명이 규칙이 없이 복잡하게 되어 있고 종류가 너무 많음\n",
    "\n",
    "해결법\n",
    "\n",
    "- 옵션이 달라도 같은 제품으로 간주\n",
    "- 먼저 소분류 카데고리로 하기\n",
    "- 나중에 옵션,제품명 정제해서 해보기"
   ]
  },
  {
   "cell_type": "markdown",
   "metadata": {},
   "source": [
    "## 2)데이터 정제"
   ]
  },
  {
   "cell_type": "markdown",
   "metadata": {},
   "source": [
    "**필요 컬럼 선별**"
   ]
  },
  {
   "cell_type": "code",
   "execution_count": 4,
   "metadata": {},
   "outputs": [
    {
     "data": {
      "text/plain": [
       "Index(['CLNT_ID', 'SESS_ID', 'HITS_SEQ', 'PD_C', 'PD_ADD_NM', 'PD_BRA_NM',\n",
       "       'PD_BUY_AM', 'PD_BUY_CT', 'SESS_SEQ', 'SESS_DT', 'TOT_PAG_VIEW_CT',\n",
       "       'TOT_SESS_HR_V', 'DVC_CTG_NM', 'ZON_NM', 'CITY_NM', 'PD_NM', 'CLAC1_NM',\n",
       "       'CLAC2_NM', 'CLAC3_NM'],\n",
       "      dtype='object')"
      ]
     },
     "execution_count": 4,
     "metadata": {},
     "output_type": "execute_result"
    }
   ],
   "source": [
    "data.columns"
   ]
  },
  {
   "cell_type": "code",
   "execution_count": 5,
   "metadata": {},
   "outputs": [
    {
     "data": {
      "text/html": [
       "<div>\n",
       "<style scoped>\n",
       "    .dataframe tbody tr th:only-of-type {\n",
       "        vertical-align: middle;\n",
       "    }\n",
       "\n",
       "    .dataframe tbody tr th {\n",
       "        vertical-align: top;\n",
       "    }\n",
       "\n",
       "    .dataframe thead th {\n",
       "        text-align: right;\n",
       "    }\n",
       "</style>\n",
       "<table border=\"1\" class=\"dataframe\">\n",
       "  <thead>\n",
       "    <tr style=\"text-align: right;\">\n",
       "      <th></th>\n",
       "      <th>CLNT_ID</th>\n",
       "      <th>SESS_DT</th>\n",
       "      <th>CLAC3_NM</th>\n",
       "    </tr>\n",
       "  </thead>\n",
       "  <tbody>\n",
       "    <tr>\n",
       "      <th>0</th>\n",
       "      <td>8</td>\n",
       "      <td>20180605</td>\n",
       "      <td>여성클러치백</td>\n",
       "    </tr>\n",
       "    <tr>\n",
       "      <th>1</th>\n",
       "      <td>8</td>\n",
       "      <td>20180606</td>\n",
       "      <td>여성클러치백</td>\n",
       "    </tr>\n",
       "    <tr>\n",
       "      <th>2</th>\n",
       "      <td>14</td>\n",
       "      <td>20180911</td>\n",
       "      <td>여성시계</td>\n",
       "    </tr>\n",
       "    <tr>\n",
       "      <th>3</th>\n",
       "      <td>14</td>\n",
       "      <td>20180911</td>\n",
       "      <td>여성시계</td>\n",
       "    </tr>\n",
       "    <tr>\n",
       "      <th>4</th>\n",
       "      <td>25</td>\n",
       "      <td>20180518</td>\n",
       "      <td>일반두유</td>\n",
       "    </tr>\n",
       "  </tbody>\n",
       "</table>\n",
       "</div>"
      ],
      "text/plain": [
       "   CLNT_ID   SESS_DT CLAC3_NM\n",
       "0        8  20180605   여성클러치백\n",
       "1        8  20180606   여성클러치백\n",
       "2       14  20180911     여성시계\n",
       "3       14  20180911     여성시계\n",
       "4       25  20180518     일반두유"
      ]
     },
     "execution_count": 5,
     "metadata": {},
     "output_type": "execute_result"
    }
   ],
   "source": [
    "clac3 = data[['CLNT_ID','SESS_DT','CLAC3_NM']]\n",
    "\n",
    "clac3.head(5)"
   ]
  },
  {
   "cell_type": "markdown",
   "metadata": {},
   "source": [
    "문제점\n",
    "\n",
    "- 장바구니 기간 기준\n",
    "- 같은 소분류 여러개 사는 경우\n",
    "\n",
    "해결법\n",
    "\n",
    "- 요일별로 묶어서 분석하기// **온라인 구매는 직장, 학교의 영향으로 요일별 패턴이 있다**로 가설 설정\n",
    "- 수량 무시// 제품간의 관계를 찾는 것이 목적이기 때문에 수량은 중요하지 않다고 판단"
   ]
  },
  {
   "cell_type": "markdown",
   "metadata": {},
   "source": [
    "**중복 제거(같은 고객, 같은 날짜에 따른 수량 무시)**"
   ]
  },
  {
   "cell_type": "code",
   "execution_count": 6,
   "metadata": {},
   "outputs": [
    {
     "name": "stdout",
     "output_type": "stream",
     "text": [
      "중복 제거 전: 5024906 // 중복 제거 후: 3612946\n"
     ]
    }
   ],
   "source": [
    "clac3_dup = clac3.drop_duplicates().reset_index(drop = 'level_0')\n",
    "\n",
    "print(\"중복 제거 전: {} // 중복 제거 후: {}\".format(len(clac3),len(clac3_dup)))"
   ]
  },
  {
   "cell_type": "code",
   "execution_count": 7,
   "metadata": {},
   "outputs": [
    {
     "data": {
      "text/html": [
       "<div>\n",
       "<style scoped>\n",
       "    .dataframe tbody tr th:only-of-type {\n",
       "        vertical-align: middle;\n",
       "    }\n",
       "\n",
       "    .dataframe tbody tr th {\n",
       "        vertical-align: top;\n",
       "    }\n",
       "\n",
       "    .dataframe thead th {\n",
       "        text-align: right;\n",
       "    }\n",
       "</style>\n",
       "<table border=\"1\" class=\"dataframe\">\n",
       "  <thead>\n",
       "    <tr style=\"text-align: right;\">\n",
       "      <th></th>\n",
       "      <th>CLNT_ID</th>\n",
       "      <th>SESS_DT</th>\n",
       "      <th>CLAC3_NM</th>\n",
       "    </tr>\n",
       "  </thead>\n",
       "  <tbody>\n",
       "    <tr>\n",
       "      <th>0</th>\n",
       "      <td>8</td>\n",
       "      <td>20180605</td>\n",
       "      <td>여성클러치백</td>\n",
       "    </tr>\n",
       "    <tr>\n",
       "      <th>1</th>\n",
       "      <td>8</td>\n",
       "      <td>20180606</td>\n",
       "      <td>여성클러치백</td>\n",
       "    </tr>\n",
       "    <tr>\n",
       "      <th>2</th>\n",
       "      <td>14</td>\n",
       "      <td>20180911</td>\n",
       "      <td>여성시계</td>\n",
       "    </tr>\n",
       "    <tr>\n",
       "      <th>3</th>\n",
       "      <td>25</td>\n",
       "      <td>20180518</td>\n",
       "      <td>일반두유</td>\n",
       "    </tr>\n",
       "    <tr>\n",
       "      <th>4</th>\n",
       "      <td>25</td>\n",
       "      <td>20180425</td>\n",
       "      <td>일반두유</td>\n",
       "    </tr>\n",
       "    <tr>\n",
       "      <th>5</th>\n",
       "      <td>25</td>\n",
       "      <td>20180621</td>\n",
       "      <td>일반두유</td>\n",
       "    </tr>\n",
       "    <tr>\n",
       "      <th>6</th>\n",
       "      <td>25</td>\n",
       "      <td>20180703</td>\n",
       "      <td>페이셜팩류</td>\n",
       "    </tr>\n",
       "    <tr>\n",
       "      <th>7</th>\n",
       "      <td>32</td>\n",
       "      <td>20180911</td>\n",
       "      <td>남성티셔츠</td>\n",
       "    </tr>\n",
       "    <tr>\n",
       "      <th>8</th>\n",
       "      <td>32</td>\n",
       "      <td>20180911</td>\n",
       "      <td>남성캐주얼재킷</td>\n",
       "    </tr>\n",
       "    <tr>\n",
       "      <th>9</th>\n",
       "      <td>32</td>\n",
       "      <td>20180917</td>\n",
       "      <td>여성양말선물세트</td>\n",
       "    </tr>\n",
       "  </tbody>\n",
       "</table>\n",
       "</div>"
      ],
      "text/plain": [
       "   CLNT_ID   SESS_DT  CLAC3_NM\n",
       "0        8  20180605    여성클러치백\n",
       "1        8  20180606    여성클러치백\n",
       "2       14  20180911      여성시계\n",
       "3       25  20180518      일반두유\n",
       "4       25  20180425      일반두유\n",
       "5       25  20180621      일반두유\n",
       "6       25  20180703     페이셜팩류\n",
       "7       32  20180911     남성티셔츠\n",
       "8       32  20180911   남성캐주얼재킷\n",
       "9       32  20180917  여성양말선물세트"
      ]
     },
     "execution_count": 7,
     "metadata": {},
     "output_type": "execute_result"
    }
   ],
   "source": [
    "clac3_dup.head(10)"
   ]
  },
  {
   "cell_type": "markdown",
   "metadata": {},
   "source": [
    "**요일 변수 생성**"
   ]
  },
  {
   "cell_type": "code",
   "execution_count": 8,
   "metadata": {},
   "outputs": [
    {
     "name": "stdout",
     "output_type": "stream",
     "text": [
      "<class 'pandas.core.frame.DataFrame'>\n",
      "RangeIndex: 3612946 entries, 0 to 3612945\n",
      "Data columns (total 3 columns):\n",
      "CLNT_ID     int64\n",
      "SESS_DT     int64\n",
      "CLAC3_NM    object\n",
      "dtypes: int64(2), object(1)\n",
      "memory usage: 82.7+ MB\n"
     ]
    }
   ],
   "source": [
    "clac3_dup.info()"
   ]
  },
  {
   "cell_type": "code",
   "execution_count": 9,
   "metadata": {},
   "outputs": [
    {
     "name": "stdout",
     "output_type": "stream",
     "text": [
      "<class 'pandas.core.frame.DataFrame'>\n",
      "RangeIndex: 3612946 entries, 0 to 3612945\n",
      "Data columns (total 3 columns):\n",
      "CLNT_ID     int64\n",
      "SESS_DT     datetime64[ns]\n",
      "CLAC3_NM    object\n",
      "dtypes: datetime64[ns](1), int64(1), object(1)\n",
      "memory usage: 82.7+ MB\n"
     ]
    }
   ],
   "source": [
    "clac3_dup['SESS_DT'] = pd.to_datetime(clac3_dup['SESS_DT'].astype(str))\n",
    "clac3_dup.info()"
   ]
  },
  {
   "cell_type": "code",
   "execution_count": 10,
   "metadata": {},
   "outputs": [],
   "source": [
    "def day_of_the_weekday(data):\n",
    "    return data.strftime('%A')\n",
    "\n",
    "clac3_dup['weekday'] = clac3_dup['SESS_DT'].apply(day_of_the_weekday)"
   ]
  },
  {
   "cell_type": "code",
   "execution_count": 11,
   "metadata": {},
   "outputs": [
    {
     "data": {
      "text/html": [
       "<div>\n",
       "<style scoped>\n",
       "    .dataframe tbody tr th:only-of-type {\n",
       "        vertical-align: middle;\n",
       "    }\n",
       "\n",
       "    .dataframe tbody tr th {\n",
       "        vertical-align: top;\n",
       "    }\n",
       "\n",
       "    .dataframe thead th {\n",
       "        text-align: right;\n",
       "    }\n",
       "</style>\n",
       "<table border=\"1\" class=\"dataframe\">\n",
       "  <thead>\n",
       "    <tr style=\"text-align: right;\">\n",
       "      <th></th>\n",
       "      <th>CLNT_ID</th>\n",
       "      <th>SESS_DT</th>\n",
       "      <th>CLAC3_NM</th>\n",
       "      <th>weekday</th>\n",
       "    </tr>\n",
       "  </thead>\n",
       "  <tbody>\n",
       "    <tr>\n",
       "      <th>0</th>\n",
       "      <td>8</td>\n",
       "      <td>2018-06-05</td>\n",
       "      <td>여성클러치백</td>\n",
       "      <td>Tuesday</td>\n",
       "    </tr>\n",
       "    <tr>\n",
       "      <th>1</th>\n",
       "      <td>8</td>\n",
       "      <td>2018-06-06</td>\n",
       "      <td>여성클러치백</td>\n",
       "      <td>Wednesday</td>\n",
       "    </tr>\n",
       "    <tr>\n",
       "      <th>2</th>\n",
       "      <td>14</td>\n",
       "      <td>2018-09-11</td>\n",
       "      <td>여성시계</td>\n",
       "      <td>Tuesday</td>\n",
       "    </tr>\n",
       "    <tr>\n",
       "      <th>3</th>\n",
       "      <td>25</td>\n",
       "      <td>2018-05-18</td>\n",
       "      <td>일반두유</td>\n",
       "      <td>Friday</td>\n",
       "    </tr>\n",
       "    <tr>\n",
       "      <th>4</th>\n",
       "      <td>25</td>\n",
       "      <td>2018-04-25</td>\n",
       "      <td>일반두유</td>\n",
       "      <td>Wednesday</td>\n",
       "    </tr>\n",
       "    <tr>\n",
       "      <th>5</th>\n",
       "      <td>25</td>\n",
       "      <td>2018-06-21</td>\n",
       "      <td>일반두유</td>\n",
       "      <td>Thursday</td>\n",
       "    </tr>\n",
       "    <tr>\n",
       "      <th>6</th>\n",
       "      <td>25</td>\n",
       "      <td>2018-07-03</td>\n",
       "      <td>페이셜팩류</td>\n",
       "      <td>Tuesday</td>\n",
       "    </tr>\n",
       "    <tr>\n",
       "      <th>7</th>\n",
       "      <td>32</td>\n",
       "      <td>2018-09-11</td>\n",
       "      <td>남성티셔츠</td>\n",
       "      <td>Tuesday</td>\n",
       "    </tr>\n",
       "    <tr>\n",
       "      <th>8</th>\n",
       "      <td>32</td>\n",
       "      <td>2018-09-11</td>\n",
       "      <td>남성캐주얼재킷</td>\n",
       "      <td>Tuesday</td>\n",
       "    </tr>\n",
       "    <tr>\n",
       "      <th>9</th>\n",
       "      <td>32</td>\n",
       "      <td>2018-09-17</td>\n",
       "      <td>여성양말선물세트</td>\n",
       "      <td>Monday</td>\n",
       "    </tr>\n",
       "  </tbody>\n",
       "</table>\n",
       "</div>"
      ],
      "text/plain": [
       "   CLNT_ID    SESS_DT  CLAC3_NM    weekday\n",
       "0        8 2018-06-05    여성클러치백    Tuesday\n",
       "1        8 2018-06-06    여성클러치백  Wednesday\n",
       "2       14 2018-09-11      여성시계    Tuesday\n",
       "3       25 2018-05-18      일반두유     Friday\n",
       "4       25 2018-04-25      일반두유  Wednesday\n",
       "5       25 2018-06-21      일반두유   Thursday\n",
       "6       25 2018-07-03     페이셜팩류    Tuesday\n",
       "7       32 2018-09-11     남성티셔츠    Tuesday\n",
       "8       32 2018-09-11   남성캐주얼재킷    Tuesday\n",
       "9       32 2018-09-17  여성양말선물세트     Monday"
      ]
     },
     "execution_count": 11,
     "metadata": {},
     "output_type": "execute_result"
    }
   ],
   "source": [
    "clac3_dup.head(10)"
   ]
  },
  {
   "cell_type": "markdown",
   "metadata": {},
   "source": [
    "## 3)데이터 나누기"
   ]
  },
  {
   "cell_type": "markdown",
   "metadata": {},
   "source": [
    "**요일별 관측치 수**"
   ]
  },
  {
   "cell_type": "code",
   "execution_count": 12,
   "metadata": {},
   "outputs": [
    {
     "data": {
      "text/plain": [
       "weekday\n",
       "Friday       446050\n",
       "Monday       626264\n",
       "Saturday     416626\n",
       "Sunday       539521\n",
       "Thursday     500228\n",
       "Tuesday      544647\n",
       "Wednesday    539610\n",
       "dtype: int64"
      ]
     },
     "execution_count": 12,
     "metadata": {},
     "output_type": "execute_result"
    }
   ],
   "source": [
    "clac3_week = clac3_dup.groupby('weekday').size()\n",
    "clac3_week"
   ]
  },
  {
   "cell_type": "code",
   "execution_count": 46,
   "metadata": {},
   "outputs": [
    {
     "data": {
      "text/plain": [
       "<matplotlib.axes._subplots.AxesSubplot at 0x1ec26e75eb8>"
      ]
     },
     "execution_count": 46,
     "metadata": {},
     "output_type": "execute_result"
    },
    {
     "data": {
      "image/png": "[encoded data removed]",
      "text/plain": [
       "<Figure size 720x360 with 1 Axes>"
      ]
     },
     "metadata": {
      "needs_background": "light"
     },
     "output_type": "display_data"
    }
   ],
   "source": [
    "import seaborn as sns\n",
    "import matplotlib.pyplot as plt\n",
    "\n",
    "plt.figure(figsize=(10,5))\n",
    "\n",
    "order = ['Monday','Tuesday','Wednesday','Thursday','Friday','Saturday','Sunday']\n",
    "\n",
    "sns.barplot(x = clac3_week.index, y=clac3_week.values, order = order)"
   ]
  },
  {
   "cell_type": "markdown",
   "metadata": {},
   "source": [
    "**요일별 데이터 나누기**"
   ]
  },
  {
   "cell_type": "code",
   "execution_count": 14,
   "metadata": {},
   "outputs": [],
   "source": [
    "for x in clac3_week.index:\n",
    "    d = x[:3].lower()\n",
    "    globals()[d] = clac3_dup[clac3_dup['weekday'] == x].drop(['weekday'], axis = 1).reset_index(drop = 'level_0')"
   ]
  },
  {
   "cell_type": "code",
   "execution_count": 15,
   "metadata": {},
   "outputs": [
    {
     "data": {
      "text/plain": [
       "(   CLNT_ID    SESS_DT   CLAC3_NM\n",
       " 0       32 2018-09-17   여성양말선물세트\n",
       " 1       59 2018-09-24  식기건조대/수저통\n",
       " 2       63 2018-06-11        미스트,    CLNT_ID    SESS_DT CLAC3_NM\n",
       " 0        8 2018-06-05   여성클러치백\n",
       " 1       14 2018-09-11     여성시계\n",
       " 2       25 2018-07-03    페이셜팩류,    CLNT_ID    SESS_DT CLAC3_NM\n",
       " 0        8 2018-06-06   여성클러치백\n",
       " 1       25 2018-04-25     일반두유\n",
       " 2       33 2018-04-11    스킨/토너,    CLNT_ID    SESS_DT  CLAC3_NM\n",
       " 0       25 2018-06-21      일반두유\n",
       " 1       51 2018-05-03      음료용컵\n",
       " 2       58 2018-07-19  남성스포츠티셔츠,    CLNT_ID    SESS_DT CLAC3_NM\n",
       " 0       25 2018-05-18     일반두유\n",
       " 1       68 2018-07-13     제모용품\n",
       " 2       68 2018-08-10   메이크업세트,    CLNT_ID    SESS_DT  CLAC3_NM\n",
       " 0       33 2018-04-07    페이셜클렌저\n",
       " 1       63 2018-09-08   남성캐주얼재킷\n",
       " 2       68 2018-07-21  립스틱/립라이너,    CLNT_ID    SESS_DT   CLAC3_NM\n",
       " 0       56 2018-08-26    핸드로션/크림\n",
       " 1       59 2018-09-23  식기건조대/수저통\n",
       " 2       59 2018-09-23  국자/뒤지개/주걱)"
      ]
     },
     "execution_count": 15,
     "metadata": {},
     "output_type": "execute_result"
    }
   ],
   "source": [
    "mon.head(3), tue.head(3), wed.head(3), thu.head(3), fri.head(3), sat.head(3), sun.head(3),"
   ]
  },
  {
   "cell_type": "markdown",
   "metadata": {},
   "source": [
    "**월요일 분석**"
   ]
  },
  {
   "cell_type": "code",
   "execution_count": 55,
   "metadata": {},
   "outputs": [],
   "source": [
    "dataset = mon.groupby(['CLNT_ID','SESS_DT','CLAC3_NM']).size().unstack(fill_value=0)"
   ]
  },
  {
   "cell_type": "markdown",
   "metadata": {},
   "source": [
    "문제점\n",
    "\n",
    "- astype(bool) 붙으면 커널이 죽음\n",
    "\n",
    "해결법\n",
    "\n",
    "- 빼고 한다."
   ]
  },
  {
   "cell_type": "code",
   "execution_count": 56,
   "metadata": {},
   "outputs": [
    {
     "data": {
      "text/html": [
       "<div>\n",
       "<style scoped>\n",
       "    .dataframe tbody tr th:only-of-type {\n",
       "        vertical-align: middle;\n",
       "    }\n",
       "\n",
       "    .dataframe tbody tr th {\n",
       "        vertical-align: top;\n",
       "    }\n",
       "\n",
       "    .dataframe thead th {\n",
       "        text-align: right;\n",
       "    }\n",
       "</style>\n",
       "<table border=\"1\" class=\"dataframe\">\n",
       "  <thead>\n",
       "    <tr style=\"text-align: right;\">\n",
       "      <th></th>\n",
       "      <th>antecedents</th>\n",
       "      <th>consequents</th>\n",
       "      <th>antecedent support</th>\n",
       "      <th>consequent support</th>\n",
       "      <th>support</th>\n",
       "      <th>confidence</th>\n",
       "      <th>lift</th>\n",
       "      <th>leverage</th>\n",
       "      <th>conviction</th>\n",
       "    </tr>\n",
       "  </thead>\n",
       "  <tbody>\n",
       "    <tr>\n",
       "      <th>0</th>\n",
       "      <td>(남성티셔츠)</td>\n",
       "      <td>(남성캐주얼바지)</td>\n",
       "      <td>0.060969</td>\n",
       "      <td>0.027205</td>\n",
       "      <td>0.007569</td>\n",
       "      <td>0.124144</td>\n",
       "      <td>4.563320</td>\n",
       "      <td>0.005910</td>\n",
       "      <td>1.110680</td>\n",
       "    </tr>\n",
       "    <tr>\n",
       "      <th>1</th>\n",
       "      <td>(남성캐주얼바지)</td>\n",
       "      <td>(남성티셔츠)</td>\n",
       "      <td>0.027205</td>\n",
       "      <td>0.060969</td>\n",
       "      <td>0.007569</td>\n",
       "      <td>0.278221</td>\n",
       "      <td>4.563320</td>\n",
       "      <td>0.005910</td>\n",
       "      <td>1.300995</td>\n",
       "    </tr>\n",
       "    <tr>\n",
       "      <th>2</th>\n",
       "      <td>(여성남방셔츠)</td>\n",
       "      <td>(여성티셔츠/탑)</td>\n",
       "      <td>0.032018</td>\n",
       "      <td>0.032465</td>\n",
       "      <td>0.004563</td>\n",
       "      <td>0.142524</td>\n",
       "      <td>4.390049</td>\n",
       "      <td>0.003524</td>\n",
       "      <td>1.128352</td>\n",
       "    </tr>\n",
       "    <tr>\n",
       "      <th>3</th>\n",
       "      <td>(여성티셔츠/탑)</td>\n",
       "      <td>(여성남방셔츠)</td>\n",
       "      <td>0.032465</td>\n",
       "      <td>0.032018</td>\n",
       "      <td>0.004563</td>\n",
       "      <td>0.140559</td>\n",
       "      <td>4.390049</td>\n",
       "      <td>0.003524</td>\n",
       "      <td>1.126293</td>\n",
       "    </tr>\n",
       "    <tr>\n",
       "      <th>4</th>\n",
       "      <td>(여성바지)</td>\n",
       "      <td>(여성티셔츠/탑)</td>\n",
       "      <td>0.023229</td>\n",
       "      <td>0.032465</td>\n",
       "      <td>0.003950</td>\n",
       "      <td>0.170046</td>\n",
       "      <td>5.237784</td>\n",
       "      <td>0.003196</td>\n",
       "      <td>1.165769</td>\n",
       "    </tr>\n",
       "    <tr>\n",
       "      <th>5</th>\n",
       "      <td>(여성티셔츠/탑)</td>\n",
       "      <td>(여성바지)</td>\n",
       "      <td>0.032465</td>\n",
       "      <td>0.023229</td>\n",
       "      <td>0.003950</td>\n",
       "      <td>0.121669</td>\n",
       "      <td>5.237784</td>\n",
       "      <td>0.003196</td>\n",
       "      <td>1.112076</td>\n",
       "    </tr>\n",
       "    <tr>\n",
       "      <th>6</th>\n",
       "      <td>(여성남방셔츠)</td>\n",
       "      <td>(여성바지)</td>\n",
       "      <td>0.032018</td>\n",
       "      <td>0.023229</td>\n",
       "      <td>0.003836</td>\n",
       "      <td>0.119802</td>\n",
       "      <td>5.157399</td>\n",
       "      <td>0.003092</td>\n",
       "      <td>1.109717</td>\n",
       "    </tr>\n",
       "    <tr>\n",
       "      <th>7</th>\n",
       "      <td>(여성바지)</td>\n",
       "      <td>(여성남방셔츠)</td>\n",
       "      <td>0.023229</td>\n",
       "      <td>0.032018</td>\n",
       "      <td>0.003836</td>\n",
       "      <td>0.165127</td>\n",
       "      <td>5.157399</td>\n",
       "      <td>0.003092</td>\n",
       "      <td>1.159437</td>\n",
       "    </tr>\n",
       "    <tr>\n",
       "      <th>8</th>\n",
       "      <td>(여성남방셔츠)</td>\n",
       "      <td>(여성원피스)</td>\n",
       "      <td>0.032018</td>\n",
       "      <td>0.040701</td>\n",
       "      <td>0.003789</td>\n",
       "      <td>0.118345</td>\n",
       "      <td>2.907668</td>\n",
       "      <td>0.002486</td>\n",
       "      <td>1.088066</td>\n",
       "    </tr>\n",
       "    <tr>\n",
       "      <th>9</th>\n",
       "      <td>(여성원피스)</td>\n",
       "      <td>(여성남방셔츠)</td>\n",
       "      <td>0.040701</td>\n",
       "      <td>0.032018</td>\n",
       "      <td>0.003789</td>\n",
       "      <td>0.093097</td>\n",
       "      <td>2.907668</td>\n",
       "      <td>0.002486</td>\n",
       "      <td>1.067349</td>\n",
       "    </tr>\n",
       "    <tr>\n",
       "      <th>10</th>\n",
       "      <td>(여성원피스)</td>\n",
       "      <td>(여성티셔츠/탑)</td>\n",
       "      <td>0.040701</td>\n",
       "      <td>0.032465</td>\n",
       "      <td>0.003544</td>\n",
       "      <td>0.087081</td>\n",
       "      <td>2.682282</td>\n",
       "      <td>0.002223</td>\n",
       "      <td>1.059825</td>\n",
       "    </tr>\n",
       "    <tr>\n",
       "      <th>11</th>\n",
       "      <td>(여성티셔츠/탑)</td>\n",
       "      <td>(여성원피스)</td>\n",
       "      <td>0.032465</td>\n",
       "      <td>0.040701</td>\n",
       "      <td>0.003544</td>\n",
       "      <td>0.109172</td>\n",
       "      <td>2.682282</td>\n",
       "      <td>0.002223</td>\n",
       "      <td>1.076862</td>\n",
       "    </tr>\n",
       "    <tr>\n",
       "      <th>12</th>\n",
       "      <td>(남성티셔츠)</td>\n",
       "      <td>(여성티셔츠/탑)</td>\n",
       "      <td>0.060969</td>\n",
       "      <td>0.032465</td>\n",
       "      <td>0.003197</td>\n",
       "      <td>0.052434</td>\n",
       "      <td>1.615088</td>\n",
       "      <td>0.001217</td>\n",
       "      <td>1.021074</td>\n",
       "    </tr>\n",
       "    <tr>\n",
       "      <th>13</th>\n",
       "      <td>(여성티셔츠/탑)</td>\n",
       "      <td>(남성티셔츠)</td>\n",
       "      <td>0.032465</td>\n",
       "      <td>0.060969</td>\n",
       "      <td>0.003197</td>\n",
       "      <td>0.098470</td>\n",
       "      <td>1.615088</td>\n",
       "      <td>0.001217</td>\n",
       "      <td>1.041597</td>\n",
       "    </tr>\n",
       "  </tbody>\n",
       "</table>\n",
       "</div>"
      ],
      "text/plain": [
       "   antecedents consequents  antecedent support  consequent support   support  \\\n",
       "0      (남성티셔츠)   (남성캐주얼바지)            0.060969            0.027205  0.007569   \n",
       "1    (남성캐주얼바지)     (남성티셔츠)            0.027205            0.060969  0.007569   \n",
       "2     (여성남방셔츠)   (여성티셔츠/탑)            0.032018            0.032465  0.004563   \n",
       "3    (여성티셔츠/탑)    (여성남방셔츠)            0.032465            0.032018  0.004563   \n",
       "4       (여성바지)   (여성티셔츠/탑)            0.023229            0.032465  0.003950   \n",
       "5    (여성티셔츠/탑)      (여성바지)            0.032465            0.023229  0.003950   \n",
       "6     (여성남방셔츠)      (여성바지)            0.032018            0.023229  0.003836   \n",
       "7       (여성바지)    (여성남방셔츠)            0.023229            0.032018  0.003836   \n",
       "8     (여성남방셔츠)     (여성원피스)            0.032018            0.040701  0.003789   \n",
       "9      (여성원피스)    (여성남방셔츠)            0.040701            0.032018  0.003789   \n",
       "10     (여성원피스)   (여성티셔츠/탑)            0.040701            0.032465  0.003544   \n",
       "11   (여성티셔츠/탑)     (여성원피스)            0.032465            0.040701  0.003544   \n",
       "12     (남성티셔츠)   (여성티셔츠/탑)            0.060969            0.032465  0.003197   \n",
       "13   (여성티셔츠/탑)     (남성티셔츠)            0.032465            0.060969  0.003197   \n",
       "\n",
       "    confidence      lift  leverage  conviction  \n",
       "0     0.124144  4.563320  0.005910    1.110680  \n",
       "1     0.278221  4.563320  0.005910    1.300995  \n",
       "2     0.142524  4.390049  0.003524    1.128352  \n",
       "3     0.140559  4.390049  0.003524    1.126293  \n",
       "4     0.170046  5.237784  0.003196    1.165769  \n",
       "5     0.121669  5.237784  0.003196    1.112076  \n",
       "6     0.119802  5.157399  0.003092    1.109717  \n",
       "7     0.165127  5.157399  0.003092    1.159437  \n",
       "8     0.118345  2.907668  0.002486    1.088066  \n",
       "9     0.093097  2.907668  0.002486    1.067349  \n",
       "10    0.087081  2.682282  0.002223    1.059825  \n",
       "11    0.109172  2.682282  0.002223    1.076862  \n",
       "12    0.052434  1.615088  0.001217    1.021074  \n",
       "13    0.098470  1.615088  0.001217    1.041597  "
      ]
     },
     "execution_count": 56,
     "metadata": {},
     "output_type": "execute_result"
    }
   ],
   "source": [
    "import pandas as pd\n",
    "from mlxtend.preprocessing import TransactionEncoder\n",
    "from mlxtend.frequent_patterns import apriori\n",
    "from mlxtend.frequent_patterns import association_rules\n",
    "\n",
    "#지지도\n",
    "frequent_itemsets = apriori(dataset, min_support=0.003, use_colnames=True) #----> min_support: 최소 지지도\n",
    "frequent_itemsets = frequent_itemsets.sort_values('support', ascending = False)\n",
    "frequent_itemsets.reset_index(drop='index', inplace = True)\n",
    "#신뢰도\n",
    "frequent_itemsets = association_rules(frequent_itemsets, metric=\"confidence\", min_threshold=0.001) #-----> min_threshold: 최소 신뢰도\n",
    "frequent_itemsets = frequent_itemsets.sort_values('support', ascending = False)\n",
    "frequent_itemsets.reset_index(drop='index', inplace = True)\n",
    "frequent_itemsets"
   ]
  },
  {
   "cell_type": "markdown",
   "metadata": {},
   "source": [
    "- 결과에 의류 카테고리만 나옴.\n",
    "- 남성티셔츠와 남성캐주얼바지를 같이 구매한 경우는 전체의 0.7%이다.\n",
    "- 남성티셔츠를 샀을 때, 남성캐주얼바지를 구매할 확률은 12.4%이다.\n",
    "- 남성티셔츠와 남성캐주얼바지의 향상도가 약 4.5 연관성이 어느 정도 있음."
   ]
  },
  {
   "cell_type": "markdown",
   "metadata": {},
   "source": [
    "문제점\n",
    "\n",
    "- 연산이 오래걸림/지지도가 너무 낮음(종류가 많기 때문)\n",
    "\n",
    "해결법\n",
    "\n",
    "- 군집화 혹은 RFM 모델로 그룹을 나누어 vip그룹을 분석한다."
   ]
  }
 ],
 "metadata": {
  "kernelspec": {
   "display_name": "Python 3",
   "language": "python",
   "name": "python3"
  },
  "language_info": {
   "codemirror_mode": {
    "name": "ipython",
    "version": 3
   },
   "file_extension": ".py",
   "mimetype": "text/x-python",
   "name": "python",
   "nbconvert_exporter": "python",
   "pygments_lexer": "ipython3",
   "version": "3.7.3"
  }
 },
 "nbformat": 4,
 "nbformat_minor": 4
}
